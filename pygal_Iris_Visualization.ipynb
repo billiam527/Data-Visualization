{
 "cells": [
  {
   "cell_type": "code",
   "execution_count": 58,
   "metadata": {
    "collapsed": true
   },
   "outputs": [],
   "source": [
    "import pandas as pd #pandas is an open source library providing data structures and data analysis tools\n",
    "import numpy as np #NumPy is the fundamental package for scientific computing\n",
    "import matplotlib.pyplot as plt #Matplotlib is a Python plotting library\n",
    "import seaborn as sns #Seaborn is a Python library based that provides an interface for drawing attractive statistical graphics\n",
    "import pygal as pg #Pygal draws SVG charts from a Python script with the Open Source library\n",
    "#%matplotlib inline\n",
    "#from IPython.display import SVG, HTML\n",
    "#import all the necessary libraries for the data visualization"
   ]
  },
  {
   "cell_type": "code",
   "execution_count": 14,
   "metadata": {
    "collapsed": true
   },
   "outputs": [],
   "source": [
    "iris = pd.read_csv(\"Iris.csv\")#Using pandas, we import our data"
   ]
  },
  {
   "cell_type": "code",
   "execution_count": 15,
   "metadata": {},
   "outputs": [
    {
     "data": {
      "text/html": [
       "<div>\n",
       "<style>\n",
       "    .dataframe thead tr:only-child th {\n",
       "        text-align: right;\n",
       "    }\n",
       "\n",
       "    .dataframe thead th {\n",
       "        text-align: left;\n",
       "    }\n",
       "\n",
       "    .dataframe tbody tr th {\n",
       "        vertical-align: top;\n",
       "    }\n",
       "</style>\n",
       "<table border=\"1\" class=\"dataframe\">\n",
       "  <thead>\n",
       "    <tr style=\"text-align: right;\">\n",
       "      <th></th>\n",
       "      <th>Id</th>\n",
       "      <th>SepalLengthCm</th>\n",
       "      <th>SepalWidthCm</th>\n",
       "      <th>PetalLengthCm</th>\n",
       "      <th>PetalWidthCm</th>\n",
       "      <th>Species</th>\n",
       "    </tr>\n",
       "  </thead>\n",
       "  <tbody>\n",
       "    <tr>\n",
       "      <th>0</th>\n",
       "      <td>1</td>\n",
       "      <td>5.1</td>\n",
       "      <td>3.5</td>\n",
       "      <td>1.4</td>\n",
       "      <td>0.2</td>\n",
       "      <td>Iris-setosa</td>\n",
       "    </tr>\n",
       "    <tr>\n",
       "      <th>1</th>\n",
       "      <td>2</td>\n",
       "      <td>4.9</td>\n",
       "      <td>3.0</td>\n",
       "      <td>1.4</td>\n",
       "      <td>0.2</td>\n",
       "      <td>Iris-setosa</td>\n",
       "    </tr>\n",
       "    <tr>\n",
       "      <th>2</th>\n",
       "      <td>3</td>\n",
       "      <td>4.7</td>\n",
       "      <td>3.2</td>\n",
       "      <td>1.3</td>\n",
       "      <td>0.2</td>\n",
       "      <td>Iris-setosa</td>\n",
       "    </tr>\n",
       "    <tr>\n",
       "      <th>3</th>\n",
       "      <td>4</td>\n",
       "      <td>4.6</td>\n",
       "      <td>3.1</td>\n",
       "      <td>1.5</td>\n",
       "      <td>0.2</td>\n",
       "      <td>Iris-setosa</td>\n",
       "    </tr>\n",
       "    <tr>\n",
       "      <th>4</th>\n",
       "      <td>5</td>\n",
       "      <td>5.0</td>\n",
       "      <td>3.6</td>\n",
       "      <td>1.4</td>\n",
       "      <td>0.2</td>\n",
       "      <td>Iris-setosa</td>\n",
       "    </tr>\n",
       "  </tbody>\n",
       "</table>\n",
       "</div>"
      ],
      "text/plain": [
       "   Id  SepalLengthCm  SepalWidthCm  PetalLengthCm  PetalWidthCm      Species\n",
       "0   1            5.1           3.5            1.4           0.2  Iris-setosa\n",
       "1   2            4.9           3.0            1.4           0.2  Iris-setosa\n",
       "2   3            4.7           3.2            1.3           0.2  Iris-setosa\n",
       "3   4            4.6           3.1            1.5           0.2  Iris-setosa\n",
       "4   5            5.0           3.6            1.4           0.2  Iris-setosa"
      ]
     },
     "execution_count": 15,
     "metadata": {},
     "output_type": "execute_result"
    }
   ],
   "source": [
    "iris.head()#we get a preview of the data"
   ]
  },
  {
   "cell_type": "code",
   "execution_count": 16,
   "metadata": {},
   "outputs": [
    {
     "data": {
      "text/plain": [
       "Iris-virginica     50\n",
       "Iris-setosa        50\n",
       "Iris-versicolor    50\n",
       "Name: Species, dtype: int64"
      ]
     },
     "execution_count": 16,
     "metadata": {},
     "output_type": "execute_result"
    }
   ],
   "source": [
    "#For a total count, we can use the function value_counts from pandas\n",
    "iris[\"Species\"].value_counts()"
   ]
  },
  {
   "cell_type": "code",
   "execution_count": 17,
   "metadata": {},
   "outputs": [
    {
     "data": {
      "text/plain": [
       "Index(['Id', 'SepalLengthCm', 'SepalWidthCm', 'PetalLengthCm', 'PetalWidthCm',\n",
       "       'Species'],\n",
       "      dtype='object')"
      ]
     },
     "execution_count": 17,
     "metadata": {},
     "output_type": "execute_result"
    }
   ],
   "source": [
    "#We can also get a look at the various columns contained in our Iris data\n",
    "iris.columns"
   ]
  },
  {
   "cell_type": "code",
   "execution_count": 57,
   "metadata": {},
   "outputs": [],
   "source": [
    "#Here we will build a bar chart comparing the sepal lengths of the various Iris species\n",
    "bar = pygal.Bar() #We import the bar chart function\n",
    "bar.title = 'Average Sepal Length per Species' #We create our chart's title\n",
    "bar.x_labels = map (str,('Iris-virginica', 'Iris-versicolor', 'Iris-setosa')) #We label the X-axis \n",
    "bar.add('SepalLength', [6.588, 5.936, 5.006]) #We plot our sepal lengths\n",
    "bar.render_to_file('sepal_length_bar_chart.svg') #We render our chart to the file sepal_length_bar_chart"
   ]
  },
  {
   "cell_type": "code",
   "execution_count": 30,
   "metadata": {
    "collapsed": true
   },
   "outputs": [],
   "source": [
    "#Here we will build a bar chart comparing the sepal widths of the various Iris species\n",
    "bar = pg.HorizontalBar() #We import the bar chart function\n",
    "bar.title = 'Average Sepal Width per Species' #We create our chart's title\n",
    "bar.x_labels = map (str,('Iris-virginica', 'Iris-versicolor', 'Iris-setosa')) #We label the X-axis \n",
    "bar.add('SepalWidth', [2.974, 2.77, 3.418]) #We plot our sepal lengths\n",
    "bar.render_to_file('sepal_width_bar_chart.svg') #We render our chart to the file sepal_width_bar_chart"
   ]
  },
  {
   "cell_type": "code",
   "execution_count": 20,
   "metadata": {
    "collapsed": true
   },
   "outputs": [],
   "source": [
    "#Here we will build a bar chart comparing the sepal lengths of the various Iris species\n",
    "bar = pg.Bar() #We import the bar chart function\n",
    "bar.title = 'Average Petal Length per Species' #We create our chart's title\n",
    "bar.x_labels = map (str,('Iris-virginica', 'Iris-versicolor', 'Iris-setosa')) #We label the X-axis \n",
    "bar.add('PetalLength', [5.552, 4.260, 1.464]) #We plot our sepal lengths\n",
    "bar.render_to_file('petal_length_bar_chart.svg') #We render our chart to the file petal_length_bar_chart"
   ]
  },
  {
   "cell_type": "code",
   "execution_count": 31,
   "metadata": {
    "collapsed": true
   },
   "outputs": [],
   "source": [
    "#Here we will build a bar chart comparing the sepal widths of the various Iris species\n",
    "bar = pg.HorizontalBar() #We import the bar chart function\n",
    "bar.title = 'Average Petal Width per Species' #We create our chart's title\n",
    "bar.x_labels = map (str,('Iris-virginica', 'Iris-versicolor', 'Iris-setosa')) #We label the X-axis \n",
    "bar.add('PetalWidth', [2.026, 1.326, 0.244]) #We plot our sepal lengths\n",
    "bar.render_to_file('petal_width_bar_chart.svg') #We render our chart to the file petal_width_bar_chart"
   ]
  },
  {
   "cell_type": "code",
   "execution_count": 40,
   "metadata": {
    "collapsed": true
   },
   "outputs": [],
   "source": [
    "bar = pg.StackedBar(show_y_labels=False)\n",
    "bar.title = 'Apps used for men and women over time'\n",
    "bar.x_labels = map(str, ('Sepal Length','Petal Length','Sepal Width','Petal Width'))\n",
    "bar.add('Virginica', [6.588,5.552,2.974,2.026])\n",
    "bar.add ('Versicolor', [5.936,4.260,2.77,1.326])\n",
    "bar.add ('Setosa', [5.006,1.464,3.418,0.244])\n",
    "bar.render_to_file ('bar_chart_stacked.svg')"
   ]
  },
  {
   "cell_type": "code",
   "execution_count": 22,
   "metadata": {
    "collapsed": true
   },
   "outputs": [],
   "source": [
    "#We will now create a scatter plot using pygal for our sepal heights and widths\n",
    "scatter_plot = pg.XY(stroke = False) #When creating the scatter plot for our Iris dataset, make stroke = False so we only get the points\n",
    "scatter_plot.title = 'Sepal Width and Length' #Give our chart a title\n",
    "#Next we will add our ddata into our scatterplot in the form of coordinates\n",
    "#I am going to make width the X-axis and length the Y-axis\n",
    "scatter_plot.add('Iris-virginica', [(3.3,6.3),(2.7,5.8),(3,7.1),(2.9,6.3),(3,6.5),(3,7.6),(2.5,4.9),(2.9,7.3),(2.5,6.7),(3.6,7.2),(3.2,6.5),(2.7,6.4),(3,6.8),(2.5,5.7),(2.8,5.8),(3.2,6.4),(3,6.5),(3.8,7.7),(2.6,7.7),(2.2,6),(3.2,6.9),(2.8,5.6),(2.8,7.7),(2.7,6.3),(3.3,6.7),(3.2,7.2),(2.8,6.2),(3,6.1),(2.8,6.4),(3,7.2),(2.8,7.4),(3.8,7.9),(2.8,6.4),(2.8,6.3),(2.6,6.1),(3,7.7),(3.4,6.3),(3.1,6.4),(3,6),(3.1,6.9),(3.1,6.7),(3.1,6.9),(2.7,5.8),(3.2,6.8),(3.3,6.7),(3,6.7),(2.5,6.3),(3,6.5),(3.4,6.2),(3,5.9)])\n",
    "scatter_plot.add('Iris-Versicolor', [(3.2,7),(3.2,6.4),(3.1,6.9),(2.3,5.5),(2.8,6.5),(2.8,5.7),(3.3,6.3),(2.4,4.9),(2.9,6.6),(2.7,5.2),(2,5),(3,5.9),(2.2,6),(2.9,6.1),(2.9,5.6),(3.1,6.7),(3,5.6),(2.7,5.8),(2.2,6.2),(2.5,5.6),(3.2,5.9),(2.8,6.1),(2.5,6.3),(2.8,6.1),(2.9,6.4),(3,6.6),(2.8,6.8),(3,6.7),(2.9,6),(2.6,5.7),(2.4,5.5),(2.4,5.5),(2.7,5.8),(2.7,6),(3,5.4),(3.4,6),(3.1,6.7),(2.3,6.3),(3,5.6),(2.5,5.5),(2.6,5.5),(3,6.1),(2.6,5.8),(2.3,5),(2.7,5.6),(3,5.7),(2.9,5.7),(2.9,6.2),(2.5,5.1),(2.8,5.7)])\n",
    "scatter_plot.add('Iris-Setosa',  [(3.5,5.1),(3,4.9),(3.2,4.7),(3.1,4.6),(3.6,5),(3.9,5.4),(3.4,4.6),(3.4,5),(2.9,4.4),(3.1,4.9),(3.7,5.4),(3.4,4.8),(3,4.8),(3,4.3),(4,5.8),(4.4,5.7),(3.9,5.4),(3.5,5.1),(3.8,5.7),(3.8,5.1),(3.4,5.4),(3.7,5.1),(3.6,4.6),(3.3,5.1),(3.4,4.8),(3,5),(3.4,5),(3.5,5.2),(3.4,5.2),(3.2,4.7),(3.1,4.8),(3.4,5.4),(4.1,5.2),(4.2,5.5),(3.1,4.9),(3.2,5),(3.5,5.5),(3.1,4.9),(3,4.4),(3.4,5.1),(3.5,5),(2.3,4.5),(3.2,4.4),(3.5,5),(3.8,5.1),(3,4.8),(3.8,5.1),(3.2,4.6),(3.7,5.3),(3.3,5)])\n",
    "scatter_plot.render_to_file(\"sepal_width_length_scatterplot.svg\") #We then render our chart to the file sepal_width_length_scatterplot"
   ]
  },
  {
   "cell_type": "code",
   "execution_count": 23,
   "metadata": {
    "collapsed": true
   },
   "outputs": [],
   "source": [
    "#We will now create a scatter plot using pygal for our petal heights and widths\n",
    "scatter_plot = pg.XY(stroke = False) #When creating the scatter plot for our Iris dataset, make stroke = False so we only get the points\n",
    "scatter_plot.title = 'Petal Width and Length' #Give our chart a title\n",
    "#Next we will add our ddata into our scatterplot in the form of coordinates\n",
    "#I am going to make width the X-axis and length the Y-axis\n",
    "scatter_plot.add('Iris-virginica', [(2.5,6),(1.9,5.1),(2.1,5.9),(1.8,5.6),(2.2,5.8),(2.1,6.6),(1.7,4.5),(1.8,6.3),(1.8,5.8),(2.5,6.1),(2,5.1),(1.9,5.3),(2.1,5.5),(2,5),(2.4,5.1),(2.3,5.3),(1.8,5.5),(2.2,6.7),(2.3,6.9),(1.5,5),(2.3,5.7),(2,4.9),(2,6.7),(1.8,4.9),(1.8,6),(2.1,5.7),(1.8,4.8),(1.8,4.9),(2.1,5.6),(1.6,5.8),(1.9,6.1),(2,6.4),(2.2,5.6),(1.5,5.1),(1.4,5.6),(2.3,6.1),(2.4,5.6),(1.8,5.5),(1.8,4.8),(2.1,5.4),(2.4,5.6),(1.9,5.1),(2.3,5.1),(2.3,5.9),(2.5,5.7),(2.3,5.2),(1.9,5),(2,5.2),(2.3,5.4),(1.8,5.1)])\n",
    "scatter_plot.add('Iris-Versicolor', [(1.4,4.7),(1.5,4.5),(1.5,4.9),(1.3,4),(1.5,4.6),(1.3,4.5),(1.6,4.7),(1,3.3),(1.3,4.6),(1.4,3.9),(1,3.5),(1.5,4.2),(1,4),(1.4,4.7),(1.3,3.6),(1.4,4.4),(1.5,4.5),(1,4.1),(1.5,4.5),(1.1,3.9),(1.8,4.8),(1.3,4),(1.5,4.9),(1.2,4.7),(1.3,4.3),(1.4,4.4),(1.4,4.8),(1.7,5),(1.5,4.5),(1,3.5),(1.1,3.8),(1,3.7),(1.2,3.9),(1.6,5.1),(1.5,4.5),(1.6,4.5),(1.5,4.7),(1.3,4.4),(1.3,4.1),(1.3,4),(1.2,4.4),(1.4,4.6),(1.2,4),(1,3.3),(1.3,4.2),(1.2,4.2),(1.3,4.2),(1.3,4.3),(1.1,3),(1.3,4.1)])\n",
    "scatter_plot.add('Iris-Setosa',  [(0.2,1.4),(0.2,1.4),(0.2,1.3),(0.2,1.5),(0.2,1.4),(0.4,1.7),(0.3,1.4),(0.2,1.5),(0.2,1.4),(0.1,1.5),(0.2,1.6),(0.2,1.5),(0.1,1.4),(0.1,1.1),(0.2,1.2),(0.4,1.5),(0.4,1.3),(0.3,1.4),(0.3,1.7),(0.3,1.5),(0.2,1.7),(0.4,1.5),(0.2,1),(0.5,1.7),(0.2,1.9),(0.2,1.6),(0.4,1.6),(0.2,1.5),(0.2,1.4),(0.2,1.6),(0.2,1.6),(0.4,1.5),(0.1,1.5),(0.1,1.5),(0.2,1.4),(0.2,1.2),(0.2,1.3),(0.1,1.5),(0.2,1.3),(0.2,1.5),(0.3,1.3),(0.3,1.3),(0.2,1.3),(0.6,1.6),(0.4,1.9),(0.3,1.4),(0.2,1.6),(0.2,1.4),(0.2,1.5),(0.2,1.4)])\n",
    "scatter_plot.render_to_file(\"petal_width_length_scatterplot.svg\") #We then render our chart to the file petal_width_length_scatterplot"
   ]
  },
  {
   "cell_type": "code",
   "execution_count": 25,
   "metadata": {
    "collapsed": true
   },
   "outputs": [],
   "source": [
    "box_plot = pg.Box()\n",
    "box_plot.title = 'Sepal Length'\n",
    "box_plot.add('Iris-Virginica', [6.3,5.8,7.1,6.3,7.6,6.5,4.9,7.3,6.7,7.2,6.5,6.4,6.8,5.7,5.8,6.4,6.5,7.7,7.7,6,6.9,5.6,7.7,6.3,6.7,7.2,6.2,6.1,6.4,7.2,7.4,7.9,6.4,6.3,6.1,7.7,6.3,6.4,6,6.9,6.7,6.9,5.8,6.8,6.7,6.7,6.3,6.5,6.2,5.9])\n",
    "box_plot.add('Iris-Versicolor', [7,6.4,6.9,5.5,6.5,5.7,6.3,4.9,6.6,5.2,5,5.9,6,6.1,5.6,6.7,5.6,5.8,6.2,5.6,5.9,6.1,6.3,6.1,6.4,6.6,6.8,6.7,6,5.7,5.5,5.5,5.8,6,5.4,6,6.7,6.3,5.6,5.5,5.5,6.1,5.8,5,5.6,5.7,5.7,6.2,5.1,5.7])\n",
    "box_plot.add('Iris-Setosa', [5.1,4.9,4.7,4.6,5,5.4,4.6,5,4.4,4.9,5.4,4.8,4.8,4.3,5.8,5.7,5.4,5.1,5.7,5.1,5.4,5.1,4.6,5.1,4.8,5,5,5.2,5.2,4.7,4.8,5.4,5.2,5.5,4.9,5,5.5,4.9,4.4,5.1,5,4.5,4.4,5,5.1,4.8,5.1,4.6,5.3,5])\n",
    "bar.x_labels = map (str,('Iris-virginica', 'Iris-versicolor', 'Iris-setosa'))\n",
    "box_plot.render_to_file(\"sepal_length_boxplot.svg\")"
   ]
  },
  {
   "cell_type": "code",
   "execution_count": 26,
   "metadata": {
    "collapsed": true
   },
   "outputs": [],
   "source": [
    "box_plot = pg.Box()\n",
    "box_plot.title = 'Sepal Width'\n",
    "box_plot.add('Iris-Virginica', [3.3,2.7,3,2.9,3,3,2.5,2.9,2.5,3.6,3.2,2.7,3,2.5,2.8,3.2,3,3.8,2.6,2.2,3.2,2.8,2.8,2.7,3.3,3.2,2.8,3,2.8,3,2.8,3.8,2.8,2.8,2.6,3,3.4,3.1,3,3.1,3.1,3.1,2.7,3.2,3.3,3,2.5,3,3.4,3])\n",
    "box_plot.add('Iris-Versicolor', [3.2,3.2,3.1,2.3,2.8,2.8,3.3,2.4,2.9,2.7,2,3,2.2,2.9,2.9,3.1,3,2.7,2.2,2.5,3.2,2.8,2.5,2.8,2.9,3,2.8,3,2.9,2.6,2.4,2.7,2.4,2.7,3,3.4,3.1,2.3,3,2.5,2.6,3,2.6,2.3,2.7,3,2.9,2.9,2.5,2.8])\n",
    "box_plot.add('Iris-Setosa', [3.5,3,3.2,3.1,3.6,3.9,3.4,3.4,2.9,3.1,3.7,3.4,3,3,4,4.4,3.9,3.5,3.8,3.8,3.4,3.7,3.6,3.3,3.4,3,3.4,3.5,3.4,3.2,3.1,3.4,4.1,4.2,3.1,3.2,3.5,3.1,3,3.4,3.5,2.3,3.2,3.5,3.8,3,3.8,3.2,3.7,3.3])\n",
    "bar.x_labels = map (str,('Iris-virginica', 'Iris-versicolor', 'Iris-setosa'))\n",
    "box_plot.render_to_file(\"sepal_width_boxplot.svg\")"
   ]
  },
  {
   "cell_type": "code",
   "execution_count": 28,
   "metadata": {
    "collapsed": true
   },
   "outputs": [],
   "source": [
    "box_plot = pg.Box()\n",
    "box_plot.title = 'Petal Length'\n",
    "box_plot.add('Iris-Virginica', [6,5.1,5.9,5.6,5.8,6.6,4.5,6.3,5.8,6.1,5.1,5.3,5.5,5,5.1,5.3,5.5,6.7,6.9,5,5.7,4.9,6.7,4.9,5.7,6,4.8,4.9,5.6,5.8,6.1,6.4,5.6,5.1,5.6,6.1,5.6,5.5,4.8,5.4,5.6,5.1,5.1,5.9,5.7,5.2,5,5.2,5.4,5.1])\n",
    "box_plot.add('Iris-Versicolor', [4.7,4.5,4.9,4,4.6,4.5,4.7,3.3,4.6,3.9,3.5,4.2,4,4.7,3.6,4.4,4.5,4.1,4.5,3.9,4.8,4,4.9,4.7,4.3,4.4,4.8,5,4.5,3.5,3.8,3.7,3.9,5.1,4.5,4.5,4.7,4.4,4.1,4,4.4,4.6,4,3.3,4.2,4.2,4.2,4.3,3,4.1])\n",
    "box_plot.add('Iris-Setosa', [1.4,1.4,1.3,1.5,1.4,1.7,1.4,1.5,1.4,1.5,1.5,1.6,1.4,1.1,1.2,1.5,1.3,1.4,1.7,1.5,1.7,1.5,1,1.7,1.9,1.6,1.6,1.5,1.4,1.6,1.6,1.5,1.5,1.4,1.5,1.2,1.3,1.5,1.3,1.5,1.3,1.3,1.3,1.6,1.9,1.4,1.6,1.4,1.5,1.4])\n",
    "bar.x_labels = map (str,('Iris-virginica', 'Iris-versicolor', 'Iris-setosa'))\n",
    "box_plot.render_to_file(\"petal_length_boxplot.svg\")"
   ]
  },
  {
   "cell_type": "code",
   "execution_count": 29,
   "metadata": {
    "collapsed": true
   },
   "outputs": [],
   "source": [
    "box_plot = pg.Box()\n",
    "box_plot.title = 'Petal Width'\n",
    "box_plot.add('Iris-Virginica', [2.5,1.9,2.1,1.8,2.2,2.1,1.7,1.8,1.8,2.5,2,1.9,2.1,2,2.4,2.3,1.8,2.2,2.3,1.5,2.3,2,2,1.8,2.1,1.8,1.8,1.8,2.1,1.6,1.9,2,2.2,1.5,1.4,2.3,2.4,1.8,1.8,2.1,2.4,2.3,1.9,2.3,2.5,2.3,1.9,2,2.3,1.8])\n",
    "box_plot.add('Iris-Versicolor', [1.4,1.5,1.5,1.3,1.5,1.3,1.6,1,1.3,1.4,1,1.5,1,1.4,1.3,1.4,1.5,1,1.5,1.1,1.8,1.3,1.5,1.2,1.3,1.4,1.4,1.7,1.5,1,1.1,1,1.2,1.6,1.5,1.6,1.5,1.3,1.3,1.3,1.2,1.4,1.2,1,1.3,1.2,1.3,1.3,1.1,1.3])\n",
    "box_plot.add('Iris-Setosa', [0.2,0.2,0.2,0.2,0.2,0.4,0.3,0.2,0.2,0.1,0.2,0.2,0.1,0.1,0.2,0.4,0.4,0.3,0.3,0.3,0.2,0.4,0.2,0.5,0.2,0.2,0.4,0.2,0.2,0.2,0.2,0.4,0.1,0.2,0.1,0.2,0.2,0.1,0.2,0.2,0.3,0.3,0.2,0.6,0.4,0.3,0.2,0.2,0.2,0.2])\n",
    "bar.x_labels = map (str,('Iris-virginica', 'Iris-versicolor', 'Iris-setosa'))\n",
    "box_plot.render_to_file(\"petal_width_boxplot.svg\")"
   ]
  },
  {
   "cell_type": "code",
   "execution_count": 44,
   "metadata": {},
   "outputs": [
    {
     "data": {
      "text/plain": [
       "<matplotlib.axes._subplots.AxesSubplot at 0x216eae685c0>"
      ]
     },
     "execution_count": 44,
     "metadata": {},
     "output_type": "execute_result"
    }
   ],
   "source": [
    "from pandas.plotting import andrews_curves\n",
    "andrews_curves(iris.drop(\"Id\", axis=1), \"Species\")"
   ]
  },
  {
   "cell_type": "code",
   "execution_count": 45,
   "metadata": {},
   "outputs": [
    {
     "data": {
      "text/plain": [
       "<matplotlib.axes._subplots.AxesSubplot at 0x216eae685c0>"
      ]
     },
     "execution_count": 45,
     "metadata": {},
     "output_type": "execute_result"
    }
   ],
   "source": [
    "from pandas.plotting import parallel_coordinates\n",
    "parallel_coordinates(iris.drop(\"Id\", axis=1), \"Species\")"
   ]
  },
  {
   "cell_type": "code",
   "execution_count": 46,
   "metadata": {},
   "outputs": [
    {
     "data": {
      "text/plain": [
       "<matplotlib.axes._subplots.AxesSubplot at 0x216eaea20b8>"
      ]
     },
     "execution_count": 46,
     "metadata": {},
     "output_type": "execute_result"
    }
   ],
   "source": [
    "from pandas.plotting import radviz\n",
    "radviz(iris.drop(\"Id\", axis=1), \"Species\")"
   ]
  }
 ],
 "metadata": {
  "kernelspec": {
   "display_name": "Python 3",
   "language": "python",
   "name": "python3"
  },
  "language_info": {
   "codemirror_mode": {
    "name": "ipython",
    "version": 3
   },
   "file_extension": ".py",
   "mimetype": "text/x-python",
   "name": "python",
   "nbconvert_exporter": "python",
   "pygments_lexer": "ipython3",
   "version": "3.6.1"
  }
 },
 "nbformat": 4,
 "nbformat_minor": 2
}
